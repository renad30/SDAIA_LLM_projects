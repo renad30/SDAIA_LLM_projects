{
  "cells": [
    {
      "cell_type": "markdown",
      "metadata": {
        "id": "view-in-github",
        "colab_type": "text"
      },
      "source": [
        "<a href=\"https://colab.research.google.com/github/renad30/SDAIA_LLM_projects/blob/main/MNIST_handwritten_digit_classification.ipynb\" target=\"_parent\"><img src=\"https://colab.research.google.com/assets/colab-badge.svg\" alt=\"Open In Colab\"/></a>"
      ]
    },
    {
      "cell_type": "markdown",
      "metadata": {
        "id": "sxquFBDorNn2"
      },
      "source": [
        "# Handwritten Digit Classification\n",
        "\n",
        "\n",
        "For this Hands-on, we will use the popular scikit-learn library to build a basic classifier. The MNIST dataset contains images of handwritten digits, and the task is to classify each image into its corresponding digit (0 to 9)."
      ]
    },
    {
      "cell_type": "markdown",
      "metadata": {
        "id": "LFjb1WbUtzcT"
      },
      "source": [
        "## Import Libraries"
      ]
    },
    {
      "cell_type": "code",
      "execution_count": 1,
      "metadata": {
        "id": "vZuJJeZBt1NX"
      },
      "outputs": [],
      "source": [
        "# Import required libraries\n",
        "import numpy as np\n",
        "import matplotlib.pyplot as plt\n",
        "from keras.datasets import mnist\n",
        "from keras.models import Sequential\n",
        "from keras.layers import Conv2D, MaxPooling2D, Flatten, Dense\n",
        "from keras.utils import to_categorical\n",
        "from sklearn.model_selection import train_test_split"
      ]
    },
    {
      "cell_type": "markdown",
      "metadata": {
        "id": "izR8JS-irUfe"
      },
      "source": [
        "## Load the Dataset"
      ]
    },
    {
      "cell_type": "markdown",
      "source": [
        "**Question 1:** Load the train and test subsets of the mnist dataset from Keras"
      ],
      "metadata": {
        "id": "ksDVyrnEaqY9"
      }
    },
    {
      "cell_type": "code",
      "execution_count": 2,
      "metadata": {
        "id": "tPZGpMact7Hh",
        "colab": {
          "base_uri": "https://localhost:8080/"
        },
        "outputId": "56baf512-26ed-4ed9-a64a-3d955b06b183"
      },
      "outputs": [
        {
          "output_type": "stream",
          "name": "stdout",
          "text": [
            "Downloading data from https://storage.googleapis.com/tensorflow/tf-keras-datasets/mnist.npz\n",
            "11490434/11490434 [==============================] - 1s 0us/step\n"
          ]
        }
      ],
      "source": [
        "import tensorflow as tf\n",
        "\n",
        "# Load the MNIST dataset\n",
        "(X_train, y_train), (X_test, y_test) =mnist.load_data()\n",
        "\n"
      ]
    },
    {
      "cell_type": "markdown",
      "metadata": {
        "id": "1hRAaUS5uBa5"
      },
      "source": [
        "## Data Pre-Processing"
      ]
    },
    {
      "cell_type": "markdown",
      "source": [
        "**Question 2:**  \n",
        "\n",
        "*   Adjust the input shape to match the one the model is expecting\n",
        "*   Normalize the values of the pixels\n",
        "*   Turn labels into categories using the to_categorical function"
      ],
      "metadata": {
        "id": "pk-ekR4Wa1AD"
      }
    },
    {
      "cell_type": "code",
      "execution_count": 3,
      "metadata": {
        "id": "6PlFzdt2uAOc"
      },
      "outputs": [],
      "source": [
        "# Preprocess the data\n",
        "\n",
        "X_train = X_train.reshape((X_train.shape[0], X_train.shape[1], X_train.shape[2], 1)) / 255.0\n",
        "X_test = X_test.reshape((X_test.shape[0], X_test.shape[1], X_test.shape[2], 1)) / 255.0\n",
        "\n",
        "\n"
      ]
    },
    {
      "cell_type": "markdown",
      "metadata": {
        "id": "C2P2NYGAu3uf"
      },
      "source": [
        "## Build and train a CNN"
      ]
    },
    {
      "cell_type": "markdown",
      "source": [
        "**Question 3:** Create a Convolutional neural Network of your choice and be carefyl while you select the following:\n",
        "\n",
        "\n",
        "*   input shape\n",
        "*   activation function at the output layer\n",
        "*   number of output neurons\n",
        "\n"
      ],
      "metadata": {
        "id": "gBh_E3p8yQJd"
      }
    },
    {
      "cell_type": "code",
      "execution_count": 4,
      "metadata": {
        "id": "cSKyObX3u6b5"
      },
      "outputs": [],
      "source": [
        "\n",
        "import matplotlib.pyplot as plt\n",
        "\n",
        "from keras.models import Sequential\n",
        "from keras.layers import Conv2D, MaxPooling2D, Flatten, Dense\n",
        "\n",
        "# Build the CNN model\n",
        "\n",
        "model = Sequential()\n",
        "model.add(Conv2D(32, (3, 3), activation='relu', input_shape=(28, 28, 1)))\n",
        "model.add(MaxPooling2D(2, 2))\n",
        "model.add(Flatten())\n",
        "model.add(Dense(100, activation='relu'))\n",
        "model.add(Dense(10, activation='softmax'))"
      ]
    },
    {
      "cell_type": "markdown",
      "source": [
        "**Question 4:** Compile and train the model. Choose an appropriate loss function, optimizer, and print out the accuracy of the model."
      ],
      "metadata": {
        "id": "Z37o5R4zyrRB"
      }
    },
    {
      "cell_type": "code",
      "source": [
        "\n",
        "# Compile the model\n",
        "model.compile(loss='sparse_categorical_crossentropy', optimizer='adam', metrics=['accuracy'])\n",
        "\n",
        "# Train the model\n",
        "history = model.fit(X_train, y_train, epochs=5, batch_size=32, validation_split=0.2)\n",
        "\n",
        "\n",
        "\n"
      ],
      "metadata": {
        "id": "EsBT-jSlyo35",
        "colab": {
          "base_uri": "https://localhost:8080/"
        },
        "outputId": "86bcb91a-ad98-4218-bb87-dbc7439682f8"
      },
      "execution_count": 5,
      "outputs": [
        {
          "output_type": "stream",
          "name": "stdout",
          "text": [
            "Epoch 1/5\n",
            "1500/1500 [==============================] - 36s 23ms/step - loss: 0.1871 - accuracy: 0.9438 - val_loss: 0.0845 - val_accuracy: 0.9738\n",
            "Epoch 2/5\n",
            "1500/1500 [==============================] - 35s 23ms/step - loss: 0.0638 - accuracy: 0.9804 - val_loss: 0.0592 - val_accuracy: 0.9828\n",
            "Epoch 3/5\n",
            "1500/1500 [==============================] - 37s 25ms/step - loss: 0.0406 - accuracy: 0.9875 - val_loss: 0.0603 - val_accuracy: 0.9831\n",
            "Epoch 4/5\n",
            "1500/1500 [==============================] - 34s 22ms/step - loss: 0.0272 - accuracy: 0.9919 - val_loss: 0.0514 - val_accuracy: 0.9859\n",
            "Epoch 5/5\n",
            "1500/1500 [==============================] - 36s 24ms/step - loss: 0.0190 - accuracy: 0.9938 - val_loss: 0.0544 - val_accuracy: 0.9854\n"
          ]
        }
      ]
    },
    {
      "cell_type": "markdown",
      "metadata": {
        "id": "LaYsKjVSu9KF"
      },
      "source": [
        "## Evaluate the Model's performance"
      ]
    },
    {
      "cell_type": "markdown",
      "source": [
        "**Question 5:** Plot the training and validation accuracy to better understand the performance of the model."
      ],
      "metadata": {
        "id": "57_7ykVky_j_"
      }
    },
    {
      "cell_type": "code",
      "execution_count": 6,
      "metadata": {
        "id": "-KqzKudQu8rv",
        "colab": {
          "base_uri": "https://localhost:8080/",
          "height": 507
        },
        "outputId": "8cf04b4e-f939-4055-cefd-1be75fda6f7a"
      },
      "outputs": [
        {
          "output_type": "stream",
          "name": "stdout",
          "text": [
            "313/313 [==============================] - 4s 13ms/step - loss: 0.0419 - accuracy: 0.9862\n",
            "Test Accuracy: 0.9861999750137329\n"
          ]
        },
        {
          "output_type": "display_data",
          "data": {
            "text/plain": [
              "<Figure size 640x480 with 1 Axes>"
            ],
            "image/png": "[encoded data removed]"
          },
          "metadata": {}
        }
      ],
      "source": [
        "# Evaluate the model on the test set\n",
        "test_loss, test_accuracy = model.evaluate(X_test, y_test)\n",
        "print(\"Test Accuracy:\", test_accuracy)\n",
        "\n",
        "# Plot the training and validation accuracy over epochs\n",
        "plt.plot(history.history['accuracy'], label='Training Accuracy')\n",
        "plt.plot(history.history['val_accuracy'], label='Validation Accuracy')\n",
        "plt.xlabel('Epoch')\n",
        "plt.ylabel('Accuracy')\n",
        "plt.legend()\n",
        "plt.title('Training and Validation Accuracy')\n",
        "plt.show()\n"
      ]
    }
  ],
  "metadata": {
    "colab": {
      "provenance": [],
      "toc_visible": true,
      "include_colab_link": true
    },
    "kernelspec": {
      "display_name": "Python 3",
      "name": "python3"
    },
    "language_info": {
      "name": "python"
    }
  },
  "nbformat": 4,
  "nbformat_minor": 0
}